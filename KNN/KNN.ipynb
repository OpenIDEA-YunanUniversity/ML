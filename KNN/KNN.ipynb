{
 "cells": [
  {
   "cell_type": "code",
   "execution_count": 34,
   "metadata": {
    "collapsed": true
   },
   "outputs": [],
   "source": [
    "from sklearn.datasets import load_iris\n",
    "from sklearn.model_selection import train_test_split\n",
    "import numpy as np"
   ]
  },
  {
   "cell_type": "code",
   "execution_count": 65,
   "metadata": {
    "collapsed": false
   },
   "outputs": [],
   "source": [
    "X,y = load_iris(return_X_y=True)\n",
    "X_train,X_test,y_train,y_test = train_test_split(X,y,test_size=0.3)"
   ]
  },
  {
   "cell_type": "code",
   "execution_count": 66,
   "metadata": {
    "collapsed": true
   },
   "outputs": [],
   "source": [
    "#使用欧式距离计算距离\n",
    "def classify(inp,X,y,k=5):\n",
    "    '''\n",
    "    inp:待预测的数据集,类型为ndarray\n",
    "    X:已知的数据集\n",
    "    y:X所对应的标签\n",
    "    '''\n",
    "    predict_y = [] #预测出的y值\n",
    "    #遍历待预测的数据集\n",
    "    for row in inp:\n",
    "        #计算待预测数据到每一个已知数据集的欧式距离\n",
    "        instances = np.sum((X-row)**2,axis=1)\n",
    "        #最小k个距离的角标\n",
    "        min_k_instances_index = np.argsort(instances)[:k]\n",
    "        #统计类别出现的次数\n",
    "        label_map = {}\n",
    "        for index in min_k_instances_index:\n",
    "            if y[index] in label_map.keys():\n",
    "                label_map[y[index]] += 1\n",
    "            else:\n",
    "                label_map[y[index]] = 1\n",
    "        #选择类别出现次数最多的类别作为预测的类标\n",
    "        max = 0\n",
    "        for key,value in label_map.items():\n",
    "            if max < value:\n",
    "                max = value\n",
    "                label = key\n",
    "        predict_y.append(label)\n",
    "    return predict_y\n"
   ]
  },
  {
   "cell_type": "code",
   "execution_count": 67,
   "metadata": {
    "collapsed": false
   },
   "outputs": [
    {
     "name": "stdout",
     "output_type": "stream",
     "text": [
      "准确率为：0.977777777778\n"
     ]
    }
   ],
   "source": [
    "y_predict = classify(X_test,X_train,y_train)\n",
    "acc = (y_predict==y_test).astype(int).mean()\n",
    "print(\"准确率为：\"+str(acc))"
   ]
  },
  {
   "cell_type": "code",
   "execution_count": null,
   "metadata": {
    "collapsed": true
   },
   "outputs": [],
   "source": []
  }
 ],
 "metadata": {
  "kernelspec": {
   "display_name": "Python 3",
   "language": "python",
   "name": "python3"
  },
  "language_info": {
   "codemirror_mode": {
    "name": "ipython",
    "version": 3
   },
   "file_extension": ".py",
   "mimetype": "text/x-python",
   "name": "python",
   "nbconvert_exporter": "python",
   "pygments_lexer": "ipython3",
   "version": "3.6.0"
  }
 },
 "nbformat": 4,
 "nbformat_minor": 2
}
